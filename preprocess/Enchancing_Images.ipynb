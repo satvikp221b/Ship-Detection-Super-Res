{
 "cells": [
  {
   "cell_type": "markdown",
   "id": "f0f657a9",
   "metadata": {},
   "source": [
    "# Enhanced Ship Detection with ESRGAN and YOLOv5\n",
    "\n",
    "This notebook demonstrates the usage of ESRGAN for image super-resolution, followed by ship detection using YOLOv5. The notebook includes data preprocessing, model usage, and visualization of results."
   ]
  },
  {
   "cell_type": "code",
   "execution_count": null,
   "id": "b2be3b99",
   "metadata": {},
   "outputs": [],
   "source": [
    "import os\n",
    "import numpy as np\n",
    "import pandas as pd\n",
    "import tensorflow as tf\n",
    "import tensorflow_hub as hub\n",
    "import cv2\n",
    "import matplotlib.pyplot as plt\n",
    "\n",
    "# Preprocessing function for images\n",
    "def preprocess_image(input_image_path):\n",
    "    \"\"\"Preprocesses the image and makes it ready for the ESRGAN model.\"\"\"\n",
    "    original_image = tf.image.decode_image(tf.io.read_file(input_image_path))\n",
    "    # Remove the alpha channel if present\n",
    "    if original_image.shape[-1] == 4:\n",
    "        original_image = original_image[..., :-1]\n",
    "    # Ensure the image dimensions are multiples of 4 (requirement of ESRGAN)\n",
    "    image_dimensions = (tf.convert_to_tensor(original_image.shape[:-1]) // 4) * 4\n",
    "    cropped_image = tf.image.crop_to_bounding_box(original_image, 0, 0, image_dimensions[0], image_dimensions[1])\n",
    "    float_image = tf.cast(cropped_image, tf.float32) / 255.0  # Normalize\n",
    "    batched_image = tf.expand_dims(float_image, 0)\n",
    "    return batched_image"
   ]
  },
  {
   "cell_type": "code",
   "execution_count": null,
   "id": "e3158781",
   "metadata": {},
   "outputs": [],
   "source": [
    "# Load the ESRGAN model\n",
    "ESRGAN_model_path = \"https://tfhub.dev/captain-pool/esrgan-tf2/1\"\n",
    "ESRGAN = hub.load(ESRGAN_model_path)\n",
    "\n",
    "# Example of super-resolution using ESRGAN\n",
    "image_path = \"train_v2/00003e153.jpg\"\n",
    "lr_image = preprocess_image(image_path)\n",
    "\n",
    "# Perform super-resolution\n",
    "sr_image = ESRGAN(lr_image)\n",
    "sr_image = tf.squeeze(sr_image)\n",
    "\n",
    "# Visualization of the result\n",
    "plt.figure(figsize=(12, 6))\n",
    "plt.subplot(1, 2, 1)\n",
    "plt.title('Low Resolution Image')\n",
    "plt.imshow(lr_image[0])\n",
    "plt.subplot(1, 2, 2)\n",
    "plt.title('Super Resolution Image')\n",
    "plt.imshow(sr_image)\n",
    "plt.show()"
   ]
  },
  {
   "cell_type": "code",
   "execution_count": null,
   "id": "c0f6f2fe",
   "metadata": {},
   "outputs": [],
   "source": [
    "# PSNR calculation for quality assessment\n",
    "def calculate_psnr(original, enhanced):\n",
    "    \"\"\"Calculates PSNR to evaluate image quality.\"\"\"\n",
    "    original = tf.image.convert_image_dtype(original, tf.float32)\n",
    "    enhanced = tf.image.convert_image_dtype(enhanced, tf.float32)\n",
    "    return tf.image.psnr(original, enhanced, max_val=1.0)\n",
    "\n",
    "# Calculate and display PSNR\n",
    "psnr_value = calculate_psnr(lr_image, tf.expand_dims(sr_image, 0))\n",
    "print(f\"PSNR of the super-resolved image: {psnr_value.numpy()[0]:.2f} dB\")"
   ]
  }
 ],
 "metadata": {},
 "nbformat": 4,
 "nbformat_minor": 5
}
